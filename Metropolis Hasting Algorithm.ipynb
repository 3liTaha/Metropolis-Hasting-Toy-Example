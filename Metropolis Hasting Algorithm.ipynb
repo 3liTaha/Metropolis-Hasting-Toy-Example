{
 "cells": [
  {
   "cell_type": "markdown",
   "id": "1ec6000d",
   "metadata": {},
   "source": [
    "# Metropolis Hastings in Action"
   ]
  },
  {
   "cell_type": "markdown",
   "id": "a7a3f9ee",
   "metadata": {},
   "source": [
    "## Strong Law of Large Numbers Simulation"
   ]
  },
  {
   "cell_type": "markdown",
   "id": "83725e49",
   "metadata": {},
   "source": [
    "### Imports"
   ]
  },
  {
   "cell_type": "code",
   "execution_count": 3,
   "id": "5a89fbd0",
   "metadata": {},
   "outputs": [],
   "source": [
    "import random\n",
    "import math\n",
    "import numpy as np\n",
    "import matplotlib.pyplot as plt"
   ]
  },
  {
   "cell_type": "markdown",
   "id": "943b2144",
   "metadata": {},
   "source": [
    "### Simulation"
   ]
  },
  {
   "cell_type": "code",
   "execution_count": 58,
   "id": "68040a1a",
   "metadata": {},
   "outputs": [
    {
     "name": "stdout",
     "output_type": "stream",
     "text": [
      "Computed Mean for Spikeness of 0 and 100 iterations is: 104.18\n",
      "Computed Mean for Spikeness of 0 and 1000 iterations is: 99.31\n",
      "Computed Mean for Spikeness of 0 and 1000000 iterations is: 99.03\n",
      "Computed Mean for Spikeness of 0.2 and 100 iterations is: 103.85\n",
      "Computed Mean for Spikeness of 0.2 and 1000 iterations is: 98.54\n",
      "Computed Mean for Spikeness of 0.2 and 1000000 iterations is: 99.04\n",
      "Computed Mean for Spikeness of 1 and 100 iterations is: 94.88\n",
      "Computed Mean for Spikeness of 1 and 1000 iterations is: 104.53\n",
      "Computed Mean for Spikeness of 1 and 1000000 iterations is: 99.6\n",
      "Computed Mean for Spikeness of 2 and 100 iterations is: 84.94\n",
      "Computed Mean for Spikeness of 2 and 1000 iterations is: 109.4\n",
      "Computed Mean for Spikeness of 2 and 1000000 iterations is: 98.56\n",
      "Computed Mean for Spikeness of 3 and 100 iterations is: 13.98\n",
      "Computed Mean for Spikeness of 3 and 1000 iterations is: 29.83\n",
      "Computed Mean for Spikeness of 3 and 1000000 iterations is: 101.38\n",
      "Computed Mean for Spikeness of 4 and 100 iterations is: 6.56\n",
      "Computed Mean for Spikeness of 4 and 1000 iterations is: 211.02\n",
      "Computed Mean for Spikeness of 4 and 1000000 iterations is: 97.23\n",
      "Computed Mean for Spikeness of 5 and 100 iterations is: 0.57\n",
      "Computed Mean for Spikeness of 5 and 1000 iterations is: 108.93\n",
      "Computed Mean for Spikeness of 5 and 1000000 iterations is: 97.16\n",
      "Computed Mean for Spikeness of 6 and 100 iterations is: 2.89\n",
      "Computed Mean for Spikeness of 6 and 1000 iterations is: 3.73\n",
      "Computed Mean for Spikeness of 6 and 1000000 iterations is: 95.21\n",
      "Computed Mean for Spikeness of 7 and 100 iterations is: 2245.27\n",
      "Computed Mean for Spikeness of 7 and 1000 iterations is: 150.06\n",
      "Computed Mean for Spikeness of 7 and 1000000 iterations is: 100.51\n",
      "Computed Mean for Spikeness of 8 and 100 iterations is: 0.04\n",
      "Computed Mean for Spikeness of 8 and 1000 iterations is: 228.28\n",
      "Computed Mean for Spikeness of 8 and 1000000 iterations is: 104.29\n",
      "Computed Mean for Spikeness of 9 and 100 iterations is: 0.0\n",
      "Computed Mean for Spikeness of 9 and 1000 iterations is: 76.68\n",
      "Computed Mean for Spikeness of 9 and 1000000 iterations is: 102.0\n",
      "Computed Mean for Spikeness of 10 and 100 iterations is: 1.17\n",
      "Computed Mean for Spikeness of 10 and 1000 iterations is: 116.4\n",
      "Computed Mean for Spikeness of 10 and 1000000 iterations is: 97.2\n",
      "Computed Mean for Spikeness of 11 and 100 iterations is: 1.68\n",
      "Computed Mean for Spikeness of 11 and 1000 iterations is: 192.67\n",
      "Computed Mean for Spikeness of 11 and 1000000 iterations is: 93.42\n"
     ]
    }
   ],
   "source": [
    "#Spike Parameter List\n",
    "S = [0,0.2,1,2,3,4,5,6,7,8,9,10,11]\n",
    "#Iterations Parameter List\n",
    "I = [100,1000,1000000]\n",
    "#probability distribution\n",
    "q = lambda m,n,spike: 1/(1 + (abs(m - 50))**spike + (abs(n - 50))**spike)\n",
    "#M: List of possible values of M\n",
    "M = [i for i in range(100)]\n",
    "#N: List of possible values of N\n",
    "N = [i for i in range(100)]\n",
    "#MN: List of Possible values of (M,N)\n",
    "MN = [(i,j) for i in M for j in N]\n",
    "results = []\n",
    "for s in S:\n",
    "    normalization = sum([q(i[0],i[1],s) for i in MN])\n",
    "    for i in I:\n",
    "        time_avg = 0\n",
    "        for k in range(i):\n",
    "            #Normalization\n",
    "            m = random.randint(0,99)\n",
    "            n = random.randint(0,99)\n",
    "            time_avg = (k*time_avg + 10000*(m + n )*q(m , n,s)/normalization)/(k + 1)\n",
    "        time_avg = round(time_avg,2)\n",
    "        print(\"Computed Mean for Spikeness of \"+str(s)+\" and \"+str(i)+\" iterations is: \"+str(time_avg))"
   ]
  },
  {
   "cell_type": "markdown",
   "id": "99acc6d5",
   "metadata": {},
   "source": [
    "## Metropolis Hastings"
   ]
  },
  {
   "cell_type": "markdown",
   "id": "95c86b71",
   "metadata": {},
   "source": [
    "### Imports"
   ]
  },
  {
   "cell_type": "code",
   "execution_count": 16,
   "id": "1d5456fe",
   "metadata": {},
   "outputs": [],
   "source": [
    "import random\n",
    "import math\n",
    "import numpy as np\n",
    "import matplotlib.pyplot as plt"
   ]
  },
  {
   "cell_type": "markdown",
   "id": "fc46563e",
   "metadata": {},
   "source": [
    "### Simulation\n"
   ]
  },
  {
   "cell_type": "code",
   "execution_count": 59,
   "id": "7a65f622",
   "metadata": {},
   "outputs": [],
   "source": [
    "def propose(m,n):\n",
    "    x = lambda m,n: [(m-1,n+1),(m,n+1)  ,(m+1,n+1),\n",
    "                     (m-1,n)  ,(m,n)    ,(m+1,n),\n",
    "                     (m-1,n-1),(m,n-1)  ,(m+1,n-1)][random.randint(0,8)]\n",
    "    i = x(m,n)\n",
    "    return (i[0] %100,i[1]%100)\n",
    "q = lambda m,n,spike: 1/(1 + (abs(m - 50))**spike + (abs(n - 50))**spike)\n",
    "def next_state(m,n,s):\n",
    "    x,y = propose(m,n)\n",
    "    if q(x,y,s) >= q(m,n,s):\n",
    "        return (x,y)\n",
    "    else:\n",
    "        if np.random.binomial(1,q(x,y,s)/q(m,n,s)):\n",
    "            return (x,y)\n",
    "        else:\n",
    "            return (m,n)\n",
    "def simulate(N,S):\n",
    "    (m,n) = (random.randint(0,99),random.randint(0,99))\n",
    "    sample_sums = []\n",
    "    sample_points = []\n",
    "    for i in range(N):\n",
    "        sample_sums.append(m+n)\n",
    "        sample_points.append((m,n))\n",
    "        (m,n) = next_state(m,n,S)\n",
    "    return (sample_sums,sample_points)\n",
    "    "
   ]
  },
  {
   "cell_type": "code",
   "execution_count": 60,
   "id": "b3d393d5",
   "metadata": {},
   "outputs": [
    {
     "name": "stdout",
     "output_type": "stream",
     "text": [
      "Computed Mean for Spikeness of 0 and 100 iterations is: 73.76\n",
      "Computed Mean for Spikeness of 0 and 1000 iterations is: 109.018\n",
      "Computed Mean for Spikeness of 0 and 1000000 iterations is: 98.681817\n",
      "Computed Mean for Spikeness of 0.2 and 100 iterations is: 92.96\n",
      "Computed Mean for Spikeness of 0.2 and 1000 iterations is: 95.787\n",
      "Computed Mean for Spikeness of 0.2 and 1000000 iterations is: 99.821692\n",
      "Computed Mean for Spikeness of 1 and 100 iterations is: 89.96\n",
      "Computed Mean for Spikeness of 1 and 1000 iterations is: 113.572\n",
      "Computed Mean for Spikeness of 1 and 1000000 iterations is: 100.27664\n",
      "Computed Mean for Spikeness of 2 and 100 iterations is: 61.73\n",
      "Computed Mean for Spikeness of 2 and 1000 iterations is: 76.685\n",
      "Computed Mean for Spikeness of 2 and 1000000 iterations is: 99.035217\n",
      "Computed Mean for Spikeness of 3 and 100 iterations is: 146.56\n",
      "Computed Mean for Spikeness of 3 and 1000 iterations is: 103.52\n",
      "Computed Mean for Spikeness of 3 and 1000000 iterations is: 99.728606\n",
      "Computed Mean for Spikeness of 4 and 100 iterations is: 132.3\n",
      "Computed Mean for Spikeness of 4 and 1000 iterations is: 78.556\n",
      "Computed Mean for Spikeness of 4 and 1000000 iterations is: 100.032651\n",
      "Computed Mean for Spikeness of 5 and 100 iterations is: 104.6\n",
      "Computed Mean for Spikeness of 5 and 1000 iterations is: 97.187\n",
      "Computed Mean for Spikeness of 5 and 1000000 iterations is: 100.019587\n",
      "Computed Mean for Spikeness of 6 and 100 iterations is: 104.11\n",
      "Computed Mean for Spikeness of 6 and 1000 iterations is: 73.928\n",
      "Computed Mean for Spikeness of 6 and 1000000 iterations is: 100.045689\n",
      "Computed Mean for Spikeness of 7 and 100 iterations is: 115.98\n",
      "Computed Mean for Spikeness of 7 and 1000 iterations is: 96.995\n",
      "Computed Mean for Spikeness of 7 and 1000000 iterations is: 99.995912\n",
      "Computed Mean for Spikeness of 8 and 100 iterations is: 82.35\n",
      "Computed Mean for Spikeness of 8 and 1000 iterations is: 92.34\n",
      "Computed Mean for Spikeness of 8 and 1000000 iterations is: 100.003027\n",
      "Computed Mean for Spikeness of 9 and 100 iterations is: 140.8\n",
      "Computed Mean for Spikeness of 9 and 1000 iterations is: 81.056\n",
      "Computed Mean for Spikeness of 9 and 1000000 iterations is: 100.002255\n",
      "Computed Mean for Spikeness of 10 and 100 iterations is: 56.91\n",
      "Computed Mean for Spikeness of 10 and 1000 iterations is: 100.39\n",
      "Computed Mean for Spikeness of 10 and 1000000 iterations is: 100.005589\n",
      "Computed Mean for Spikeness of 11 and 100 iterations is: 55.43\n",
      "Computed Mean for Spikeness of 11 and 1000 iterations is: 100.198\n",
      "Computed Mean for Spikeness of 11 and 1000000 iterations is: 99.997184\n"
     ]
    }
   ],
   "source": [
    "#Spike Parameter List\n",
    "S = [0,0.2,1,2,3,4,5,6,7,8,9,10,11]\n",
    "#Iterations Parameter List\n",
    "I = [100,1000,1000000]\n",
    "#probability distribution\n",
    "q = lambda m,n,spike: 1/(1 + (abs(m - 50))**spike + (abs(n - 50))**spike)\n",
    "for s in S:\n",
    "    for i in I:\n",
    "        (a,b) = simulate(i,s)\n",
    "        time_avg = np.mean(a)\n",
    "        print(\"Computed Mean for Spikeness of \"+str(s)+\" and \"+str(i)+\" iterations is: \"+str(time_avg))"
   ]
  }
 ],
 "metadata": {
  "kernelspec": {
   "display_name": "Python 3",
   "language": "python",
   "name": "python3"
  },
  "language_info": {
   "codemirror_mode": {
    "name": "ipython",
    "version": 3
   },
   "file_extension": ".py",
   "mimetype": "text/x-python",
   "name": "python",
   "nbconvert_exporter": "python",
   "pygments_lexer": "ipython3",
   "version": "3.8.8"
  }
 },
 "nbformat": 4,
 "nbformat_minor": 5
}
